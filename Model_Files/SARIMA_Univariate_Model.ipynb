{
 "cells": [
  {
   "cell_type": "markdown",
   "metadata": {},
   "source": [
    "ARIMA MODEL NO DECOMP OR DIFFERNCING PRIOR TO RUNNING"
   ]
  },
  {
   "cell_type": "code",
   "execution_count": 1,
   "metadata": {},
   "outputs": [],
   "source": [
    "import numpy as np\n",
    "import pandas as pd\n",
    "import warnings\n",
    "warnings.filterwarnings('ignore')\n",
    "import matplotlib.pyplot as plt"
   ]
  },
  {
   "cell_type": "code",
   "execution_count": 2,
   "metadata": {},
   "outputs": [
    {
     "data": {
      "text/html": [
       "<div>\n",
       "<style scoped>\n",
       "    .dataframe tbody tr th:only-of-type {\n",
       "        vertical-align: middle;\n",
       "    }\n",
       "\n",
       "    .dataframe tbody tr th {\n",
       "        vertical-align: top;\n",
       "    }\n",
       "\n",
       "    .dataframe thead th {\n",
       "        text-align: right;\n",
       "    }\n",
       "</style>\n",
       "<table border=\"1\" class=\"dataframe\">\n",
       "  <thead>\n",
       "    <tr style=\"text-align: right;\">\n",
       "      <th></th>\n",
       "      <th>cases</th>\n",
       "      <th>deaths</th>\n",
       "    </tr>\n",
       "    <tr>\n",
       "      <th>date</th>\n",
       "      <th></th>\n",
       "      <th></th>\n",
       "    </tr>\n",
       "  </thead>\n",
       "  <tbody>\n",
       "    <tr>\n",
       "      <th>2020-03-05</th>\n",
       "      <td>4</td>\n",
       "      <td>0</td>\n",
       "    </tr>\n",
       "    <tr>\n",
       "      <th>2020-03-06</th>\n",
       "      <td>5</td>\n",
       "      <td>0</td>\n",
       "    </tr>\n",
       "    <tr>\n",
       "      <th>2020-03-07</th>\n",
       "      <td>5</td>\n",
       "      <td>0</td>\n",
       "    </tr>\n",
       "    <tr>\n",
       "      <th>2020-03-08</th>\n",
       "      <td>6</td>\n",
       "      <td>0</td>\n",
       "    </tr>\n",
       "    <tr>\n",
       "      <th>2020-03-09</th>\n",
       "      <td>6</td>\n",
       "      <td>0</td>\n",
       "    </tr>\n",
       "    <tr>\n",
       "      <th>...</th>\n",
       "      <td>...</td>\n",
       "      <td>...</td>\n",
       "    </tr>\n",
       "    <tr>\n",
       "      <th>2020-09-29</th>\n",
       "      <td>142315</td>\n",
       "      <td>2588</td>\n",
       "    </tr>\n",
       "    <tr>\n",
       "      <th>2020-09-30</th>\n",
       "      <td>142681</td>\n",
       "      <td>2599</td>\n",
       "    </tr>\n",
       "    <tr>\n",
       "      <th>2020-10-01</th>\n",
       "      <td>143530</td>\n",
       "      <td>2607</td>\n",
       "    </tr>\n",
       "    <tr>\n",
       "      <th>2020-10-02</th>\n",
       "      <td>146234</td>\n",
       "      <td>2615</td>\n",
       "    </tr>\n",
       "    <tr>\n",
       "      <th>2020-10-03</th>\n",
       "      <td>147298</td>\n",
       "      <td>2624</td>\n",
       "    </tr>\n",
       "  </tbody>\n",
       "</table>\n",
       "<p>213 rows × 2 columns</p>\n",
       "</div>"
      ],
      "text/plain": [
       "             cases  deaths\n",
       "date                      \n",
       "2020-03-05       4       0\n",
       "2020-03-06       5       0\n",
       "2020-03-07       5       0\n",
       "2020-03-08       6       0\n",
       "2020-03-09       6       0\n",
       "...            ...     ...\n",
       "2020-09-29  142315    2588\n",
       "2020-09-30  142681    2599\n",
       "2020-10-01  143530    2607\n",
       "2020-10-02  146234    2615\n",
       "2020-10-03  147298    2624\n",
       "\n",
       "[213 rows x 2 columns]"
      ]
     },
     "execution_count": 2,
     "metadata": {},
     "output_type": "execute_result"
    }
   ],
   "source": [
    "#filepath\n",
    "NYT_file=\"../Potential Data Sources/NYT- Cty Cases Deaths Thru Oct2/us-counties.csv\"\n",
    "\n",
    "#read dataset\n",
    "NYT=pd.read_csv(NYT_file, parse_dates=['date'])\n",
    "\n",
    "# limit dataset to texas\n",
    "Texas=NYT.loc[NYT['state']=='Texas'].dropna(how='any', axis=0)\n",
    "Texas2=Texas.drop(['fips', 'state'], axis=1)\n",
    "\n",
    "### pick a county\n",
    "CtyName='Harris'\n",
    "CountyChoice=Texas2.loc[Texas2['county']==CtyName].set_index('date')\n",
    "CountyChoice2=CountyChoice.drop('county', axis=1)\n",
    "\n",
    "# CountyChoice2=Texas2\n",
    "CountyChoice2"
   ]
  },
  {
   "cell_type": "code",
   "execution_count": 3,
   "metadata": {},
   "outputs": [
    {
     "name": "stdout",
     "output_type": "stream",
     "text": [
      "(149,) (64,)\n"
     ]
    }
   ],
   "source": [
    "#param analysis for ARIMA model:\n",
    "data=CountyChoice2['cases']\n",
    "\n",
    "# Split data into train / test sets \n",
    "# Isolate only the transformed data into a dataframe for the model\n",
    "\n",
    "# split test train \n",
    "end_train=pd.to_datetime('2020-07-31')\n",
    "start_test=pd.to_datetime('2020-08-01')\n",
    "train=data[:end_train]\n",
    "test=data[start_test:]\n",
    "print(train.shape, test.shape)"
   ]
  },
  {
   "cell_type": "code",
   "execution_count": 4,
   "metadata": {},
   "outputs": [
    {
     "name": "stdout",
     "output_type": "stream",
     "text": [
      "Performing stepwise search to minimize aic\n",
      " ARIMA(1,0,1)(0,0,1)[2] intercept   : AIC=2217.319, Time=0.24 sec\n",
      " ARIMA(0,0,0)(0,0,0)[2] intercept   : AIC=3373.878, Time=0.01 sec\n",
      " ARIMA(1,0,0)(1,0,0)[2] intercept   : AIC=inf, Time=0.13 sec\n",
      " ARIMA(0,0,1)(0,0,1)[2] intercept   : AIC=inf, Time=0.12 sec\n",
      " ARIMA(0,0,0)(0,0,0)[2]             : AIC=3458.057, Time=0.01 sec\n",
      " ARIMA(1,0,1)(0,0,0)[2] intercept   : AIC=2308.546, Time=0.13 sec\n",
      " ARIMA(1,0,1)(1,0,1)[2] intercept   : AIC=2137.321, Time=0.29 sec\n",
      " ARIMA(1,0,1)(1,0,0)[2] intercept   : AIC=2152.432, Time=0.21 sec\n",
      " ARIMA(1,0,1)(2,0,1)[2] intercept   : AIC=inf, Time=0.31 sec\n",
      " ARIMA(1,0,1)(1,0,2)[2] intercept   : AIC=2147.806, Time=0.36 sec\n",
      " ARIMA(1,0,1)(0,0,2)[2] intercept   : AIC=2191.836, Time=0.24 sec\n",
      " ARIMA(1,0,1)(2,0,0)[2] intercept   : AIC=2139.215, Time=0.25 sec\n",
      " ARIMA(1,0,1)(2,0,2)[2] intercept   : AIC=inf, Time=0.38 sec\n",
      " ARIMA(0,0,1)(1,0,1)[2] intercept   : AIC=inf, Time=0.21 sec\n",
      " ARIMA(1,0,0)(1,0,1)[2] intercept   : AIC=2132.235, Time=0.21 sec\n",
      " ARIMA(1,0,0)(0,0,1)[2] intercept   : AIC=2295.208, Time=0.17 sec\n",
      " ARIMA(1,0,0)(2,0,1)[2] intercept   : AIC=2136.776, Time=0.27 sec\n",
      " ARIMA(1,0,0)(1,0,2)[2] intercept   : AIC=2136.785, Time=0.26 sec\n",
      " ARIMA(1,0,0)(0,0,0)[2] intercept   : AIC=inf, Time=0.08 sec\n",
      " ARIMA(1,0,0)(0,0,2)[2] intercept   : AIC=2257.898, Time=0.23 sec\n",
      " ARIMA(1,0,0)(2,0,0)[2] intercept   : AIC=inf, Time=0.21 sec\n",
      " ARIMA(1,0,0)(2,0,2)[2] intercept   : AIC=inf, Time=0.29 sec\n",
      " ARIMA(0,0,0)(1,0,1)[2] intercept   : AIC=inf, Time=0.23 sec\n",
      " ARIMA(1,0,0)(1,0,1)[2]             : AIC=2130.987, Time=0.10 sec\n",
      " ARIMA(1,0,0)(0,0,1)[2]             : AIC=2293.916, Time=0.14 sec\n",
      " ARIMA(1,0,0)(1,0,0)[2]             : AIC=inf, Time=0.07 sec\n",
      " ARIMA(1,0,0)(2,0,1)[2]             : AIC=2132.390, Time=0.16 sec\n",
      " ARIMA(1,0,0)(1,0,2)[2]             : AIC=2132.478, Time=0.18 sec\n",
      " ARIMA(1,0,0)(0,0,0)[2]             : AIC=inf, Time=0.05 sec\n",
      " ARIMA(1,0,0)(0,0,2)[2]             : AIC=2260.366, Time=0.12 sec\n",
      " ARIMA(1,0,0)(2,0,0)[2]             : AIC=inf, Time=0.10 sec\n",
      " ARIMA(1,0,0)(2,0,2)[2]             : AIC=inf, Time=0.27 sec\n",
      " ARIMA(0,0,0)(1,0,1)[2]             : AIC=inf, Time=0.10 sec\n",
      " ARIMA(1,0,1)(1,0,1)[2]             : AIC=2127.701, Time=0.22 sec\n",
      " ARIMA(1,0,1)(0,0,1)[2]             : AIC=2216.030, Time=0.18 sec\n",
      " ARIMA(1,0,1)(1,0,0)[2]             : AIC=2150.992, Time=0.17 sec\n",
      " ARIMA(1,0,1)(2,0,1)[2]             : AIC=inf, Time=0.23 sec\n",
      " ARIMA(1,0,1)(1,0,2)[2]             : AIC=inf, Time=0.30 sec\n",
      " ARIMA(1,0,1)(0,0,0)[2]             : AIC=2306.185, Time=0.08 sec\n",
      " ARIMA(1,0,1)(0,0,2)[2]             : AIC=2191.813, Time=0.25 sec\n",
      " ARIMA(1,0,1)(2,0,0)[2]             : AIC=2137.122, Time=0.15 sec\n",
      " ARIMA(1,0,1)(2,0,2)[2]             : AIC=inf, Time=0.32 sec\n",
      " ARIMA(0,0,1)(1,0,1)[2]             : AIC=inf, Time=0.17 sec\n",
      "\n",
      "Best model:  ARIMA(1,0,1)(1,0,1)[2]          \n",
      "Total fit time: 8.195 seconds\n",
      "{'maxiter': 50, 'method': 'lbfgs', 'order': (1, 0, 1), 'out_of_sample_size': 0, 'scoring': 'mse', 'scoring_args': {}, 'seasonal_order': (1, 0, 1, 2), 'start_params': None, 'suppress_warnings': True, 'trend': None, 'with_intercept': False}\n",
      "(1, 0, 1, 2)\n"
     ]
    }
   ],
   "source": [
    "# Import the library \n",
    "from pmdarima import auto_arima \n",
    "  \n",
    "# Fit auto_arima function to AirPassengers dataset \n",
    "stepwise_fit = auto_arima(train, start_p = 1, start_q = 1, \n",
    "                          max_p = 10, max_q = 30, m = 2, #monthly\n",
    "                          start_P = 0, seasonal = True, \n",
    "                          stationary=True,\n",
    "                          trace = True, \n",
    "                          error_action ='ignore',   # we don't want to know if an order does not work \n",
    "                          suppress_warnings = True,  # we don't want convergence warnings \n",
    "                          stepwise = True)           # set to stepwise \n",
    "  \n",
    "# To print the summary \n",
    "stepwise_fit.summary() \n",
    "x=stepwise_fit.get_params()\n",
    "    \n",
    "# override Q parameter if 0 to 1\n",
    "so=x['seasonal_order']\n",
    "so_slice1=so[ :2]\n",
    "if so[2]==0:\n",
    "    so=so_slice1+ (1, 2)\n",
    "\n",
    "print(x)\n",
    "print(so)"
   ]
  },
  {
   "cell_type": "code",
   "execution_count": 5,
   "metadata": {},
   "outputs": [
    {
     "name": "stderr",
     "output_type": "stream",
     "text": [
      "C:\\Users\\track\\anaconda3\\envs\\MachineLearning\\lib\\site-packages\\statsmodels\\tsa\\base\\tsa_model.py:159: ValueWarning: No frequency information was provided, so inferred frequency D will be used.\n",
      "  warnings.warn('No frequency information was'\n",
      "C:\\Users\\track\\anaconda3\\envs\\MachineLearning\\lib\\site-packages\\statsmodels\\tsa\\base\\tsa_model.py:159: ValueWarning: No frequency information was provided, so inferred frequency D will be used.\n",
      "  warnings.warn('No frequency information was'\n",
      "C:\\Users\\track\\anaconda3\\envs\\MachineLearning\\lib\\site-packages\\statsmodels\\base\\model.py:567: ConvergenceWarning: Maximum Likelihood optimization failed to converge. Check mle_retvals\n",
      "  warn(\"Maximum Likelihood optimization failed to converge. \"\n"
     ]
    },
    {
     "data": {
      "text/html": [
       "<table class=\"simpletable\">\n",
       "<caption>SARIMAX Results</caption>\n",
       "<tr>\n",
       "  <th>Dep. Variable:</th>               <td>cases</td>             <th>  No. Observations:  </th>    <td>149</td>   \n",
       "</tr>\n",
       "<tr>\n",
       "  <th>Model:</th>           <td>SARIMAX(1, 0, 1)x(1, 0, 1, 2)</td> <th>  Log Likelihood     </th> <td>-1054.216</td>\n",
       "</tr>\n",
       "<tr>\n",
       "  <th>Date:</th>                  <td>Tue, 20 Oct 2020</td>        <th>  AIC                </th> <td>2118.432</td> \n",
       "</tr>\n",
       "<tr>\n",
       "  <th>Time:</th>                      <td>12:56:50</td>            <th>  BIC                </th> <td>2133.451</td> \n",
       "</tr>\n",
       "<tr>\n",
       "  <th>Sample:</th>                   <td>03-05-2020</td>           <th>  HQIC               </th> <td>2124.534</td> \n",
       "</tr>\n",
       "<tr>\n",
       "  <th></th>                         <td>- 07-31-2020</td>          <th>                     </th>     <td> </td>    \n",
       "</tr>\n",
       "<tr>\n",
       "  <th>Covariance Type:</th>              <td>opg</td>              <th>                     </th>     <td> </td>    \n",
       "</tr>\n",
       "</table>\n",
       "<table class=\"simpletable\">\n",
       "<tr>\n",
       "     <td></td>        <th>coef</th>     <th>std err</th>      <th>z</th>      <th>P>|z|</th>  <th>[0.025</th>    <th>0.975]</th>  \n",
       "</tr>\n",
       "<tr>\n",
       "  <th>ar.L1</th>   <td>    0.9994</td> <td>    0.043</td> <td>   23.128</td> <td> 0.000</td> <td>    0.915</td> <td>    1.084</td>\n",
       "</tr>\n",
       "<tr>\n",
       "  <th>ma.L1</th>   <td>    0.1830</td> <td>    0.056</td> <td>    3.278</td> <td> 0.001</td> <td>    0.074</td> <td>    0.292</td>\n",
       "</tr>\n",
       "<tr>\n",
       "  <th>ar.S.L2</th> <td>    0.9987</td> <td>    0.086</td> <td>   11.557</td> <td> 0.000</td> <td>    0.829</td> <td>    1.168</td>\n",
       "</tr>\n",
       "<tr>\n",
       "  <th>ma.S.L2</th> <td>   -0.6225</td> <td>    0.070</td> <td>   -8.857</td> <td> 0.000</td> <td>   -0.760</td> <td>   -0.485</td>\n",
       "</tr>\n",
       "<tr>\n",
       "  <th>sigma2</th>  <td> 7.921e+04</td> <td> 5418.280</td> <td>   14.619</td> <td> 0.000</td> <td> 6.86e+04</td> <td> 8.98e+04</td>\n",
       "</tr>\n",
       "</table>\n",
       "<table class=\"simpletable\">\n",
       "<tr>\n",
       "  <th>Ljung-Box (Q):</th>          <td>76.70</td> <th>  Jarque-Bera (JB):  </th> <td>313.06</td>\n",
       "</tr>\n",
       "<tr>\n",
       "  <th>Prob(Q):</th>                <td>0.00</td>  <th>  Prob(JB):          </th>  <td>0.00</td> \n",
       "</tr>\n",
       "<tr>\n",
       "  <th>Heteroskedasticity (H):</th> <td>17.16</td> <th>  Skew:              </th>  <td>0.82</td> \n",
       "</tr>\n",
       "<tr>\n",
       "  <th>Prob(H) (two-sided):</th>    <td>0.00</td>  <th>  Kurtosis:          </th>  <td>9.91</td> \n",
       "</tr>\n",
       "</table><br/><br/>Warnings:<br/>[1] Covariance matrix calculated using the outer product of gradients (complex-step)."
      ],
      "text/plain": [
       "<class 'statsmodels.iolib.summary.Summary'>\n",
       "\"\"\"\n",
       "                                     SARIMAX Results                                     \n",
       "=========================================================================================\n",
       "Dep. Variable:                             cases   No. Observations:                  149\n",
       "Model:             SARIMAX(1, 0, 1)x(1, 0, 1, 2)   Log Likelihood               -1054.216\n",
       "Date:                           Tue, 20 Oct 2020   AIC                           2118.432\n",
       "Time:                                   12:56:50   BIC                           2133.451\n",
       "Sample:                               03-05-2020   HQIC                          2124.534\n",
       "                                    - 07-31-2020                                         \n",
       "Covariance Type:                             opg                                         \n",
       "==============================================================================\n",
       "                 coef    std err          z      P>|z|      [0.025      0.975]\n",
       "------------------------------------------------------------------------------\n",
       "ar.L1          0.9994      0.043     23.128      0.000       0.915       1.084\n",
       "ma.L1          0.1830      0.056      3.278      0.001       0.074       0.292\n",
       "ar.S.L2        0.9987      0.086     11.557      0.000       0.829       1.168\n",
       "ma.S.L2       -0.6225      0.070     -8.857      0.000      -0.760      -0.485\n",
       "sigma2      7.921e+04   5418.280     14.619      0.000    6.86e+04    8.98e+04\n",
       "===================================================================================\n",
       "Ljung-Box (Q):                       76.70   Jarque-Bera (JB):               313.06\n",
       "Prob(Q):                              0.00   Prob(JB):                         0.00\n",
       "Heteroskedasticity (H):              17.16   Skew:                             0.82\n",
       "Prob(H) (two-sided):                  0.00   Kurtosis:                         9.91\n",
       "===================================================================================\n",
       "\n",
       "Warnings:\n",
       "[1] Covariance matrix calculated using the outer product of gradients (complex-step).\n",
       "\"\"\""
      ]
     },
     "execution_count": 5,
     "metadata": {},
     "output_type": "execute_result"
    }
   ],
   "source": [
    "# Fit a SARIMAX(1,0,1)(2,0,0,12) on the training set \n",
    "from statsmodels.tsa.statespace.sarimax import SARIMAX \n",
    "  \n",
    "model = SARIMAX(train,\n",
    "                order = (x['order']),\n",
    "                seasonal_order =(so),\n",
    "                initialization='approximate_diffuse')\n",
    "  \n",
    "result = model.fit() \n",
    "result.summary() "
   ]
  },
  {
   "cell_type": "code",
   "execution_count": 6,
   "metadata": {},
   "outputs": [
    {
     "data": {
      "image/png": "[encoded data removed]",
      "text/plain": [
       "<Figure size 720x576 with 4 Axes>"
      ]
     },
     "metadata": {
      "needs_background": "light"
     },
     "output_type": "display_data"
    }
   ],
   "source": [
    "result.plot_diagnostics(figsize=(10,8));"
   ]
  },
  {
   "cell_type": "code",
   "execution_count": 7,
   "metadata": {},
   "outputs": [
    {
     "data": {
      "text/plain": [
       "<AxesSubplot:xlabel='date'>"
      ]
     },
     "execution_count": 7,
     "metadata": {},
     "output_type": "execute_result"
    },
    {
     "data": {
      "image/png": "[encoded data removed]",
      "text/plain": [
       "<Figure size 432x288 with 1 Axes>"
      ]
     },
     "metadata": {
      "needs_background": "light"
     },
     "output_type": "display_data"
    }
   ],
   "source": [
    "# compare test train\n",
    "start = len(train) \n",
    "end = len(train) + len(test) - 1\n",
    "  \n",
    "# Predictions for one-year against the test set \n",
    "predictions = result.predict(start, end).rename(\"Predictions\") \n",
    "  \n",
    "# plot predictions and actual values \n",
    "data.plot(legend = True)\n",
    "predictions.plot(legend = True)"
   ]
  },
  {
   "cell_type": "code",
   "execution_count": 8,
   "metadata": {},
   "outputs": [
    {
     "data": {
      "text/plain": [
       "2020-08-01     74584.274236\n",
       "2020-08-02     76186.237262\n",
       "2020-08-03     77716.656234\n",
       "2020-08-04     79314.449168\n",
       "2020-08-05     80840.794685\n",
       "                  ...      \n",
       "2020-09-29    163618.954467\n",
       "2020-09-30    165034.436814\n",
       "2020-10-01    166514.772838\n",
       "2020-10-02    167926.407874\n",
       "2020-10-03    169402.811384\n",
       "Freq: D, Name: Predictions, Length: 64, dtype: float64"
      ]
     },
     "execution_count": 8,
     "metadata": {},
     "output_type": "execute_result"
    }
   ],
   "source": [
    "predictions"
   ]
  },
  {
   "cell_type": "code",
   "execution_count": 9,
   "metadata": {},
   "outputs": [
    {
     "name": "stdout",
     "output_type": "stream",
     "text": [
      "Performing stepwise search to minimize aic\n",
      " ARIMA(1,0,1)(0,0,1)[2] intercept   : AIC=inf, Time=nan sec\n",
      " ARIMA(0,0,0)(0,0,0)[2] intercept   : AIC=4528.494, Time=0.01 sec\n",
      " ARIMA(1,0,0)(1,0,0)[2] intercept   : AIC=inf, Time=0.21 sec\n",
      " ARIMA(0,0,1)(0,0,1)[2] intercept   : AIC=inf, Time=0.19 sec\n",
      " ARIMA(0,0,0)(0,0,0)[2]             : AIC=4676.239, Time=0.01 sec\n",
      " ARIMA(0,0,0)(1,0,0)[2] intercept   : AIC=4450.594, Time=0.04 sec\n",
      " ARIMA(0,0,0)(2,0,0)[2] intercept   : AIC=4451.177, Time=0.07 sec\n",
      " ARIMA(0,0,0)(1,0,1)[2] intercept   : AIC=4381.435, Time=0.06 sec\n",
      " ARIMA(0,0,0)(0,0,1)[2] intercept   : AIC=inf, Time=0.08 sec\n",
      " ARIMA(0,0,0)(2,0,1)[2] intercept   : AIC=inf, Time=0.27 sec\n",
      " ARIMA(0,0,0)(1,0,2)[2] intercept   : AIC=4367.757, Time=0.06 sec\n",
      " ARIMA(0,0,0)(0,0,2)[2] intercept   : AIC=inf, Time=0.18 sec\n",
      " ARIMA(0,0,0)(2,0,2)[2] intercept   : AIC=inf, Time=0.46 sec\n",
      " ARIMA(1,0,0)(1,0,2)[2] intercept   : AIC=3171.166, Time=0.33 sec\n",
      " ARIMA(1,0,0)(0,0,2)[2] intercept   : AIC=3209.708, Time=0.23 sec\n",
      " ARIMA(1,0,0)(1,0,1)[2] intercept   : AIC=3167.988, Time=0.25 sec\n",
      " ARIMA(1,0,0)(0,0,1)[2] intercept   : AIC=3210.619, Time=0.18 sec\n",
      " ARIMA(1,0,0)(2,0,1)[2] intercept   : AIC=3175.205, Time=0.32 sec\n",
      " ARIMA(1,0,0)(0,0,0)[2] intercept   : AIC=inf, Time=0.10 sec\n",
      " ARIMA(1,0,0)(2,0,0)[2] intercept   : AIC=inf, Time=0.30 sec\n",
      " ARIMA(1,0,0)(2,0,2)[2] intercept   : AIC=inf, Time=0.42 sec\n",
      " ARIMA(1,0,1)(1,0,1)[2] intercept   : AIC=3179.631, Time=0.33 sec\n",
      " ARIMA(0,0,1)(1,0,1)[2] intercept   : AIC=inf, Time=0.33 sec\n",
      " ARIMA(1,0,0)(1,0,1)[2]             : AIC=3146.495, Time=0.16 sec\n",
      " ARIMA(1,0,0)(0,0,1)[2]             : AIC=3208.943, Time=0.10 sec\n",
      " ARIMA(1,0,0)(1,0,0)[2]             : AIC=inf, Time=0.14 sec\n",
      " ARIMA(1,0,0)(2,0,1)[2]             : AIC=3148.249, Time=0.21 sec\n",
      " ARIMA(1,0,0)(1,0,2)[2]             : AIC=3148.224, Time=0.18 sec\n",
      " ARIMA(1,0,0)(0,0,0)[2]             : AIC=inf, Time=0.07 sec\n",
      " ARIMA(1,0,0)(0,0,2)[2]             : AIC=3200.659, Time=0.20 sec\n",
      " ARIMA(1,0,0)(2,0,0)[2]             : AIC=inf, Time=0.25 sec\n",
      " ARIMA(1,0,0)(2,0,2)[2]             : AIC=3150.222, Time=0.37 sec\n",
      " ARIMA(0,0,0)(1,0,1)[2]             : AIC=3400.199, Time=0.28 sec\n",
      " ARIMA(1,0,1)(1,0,1)[2]             : AIC=3148.336, Time=0.21 sec\n",
      " ARIMA(0,0,1)(1,0,1)[2]             : AIC=inf, Time=0.28 sec\n",
      "\n",
      "Best model:  ARIMA(1,0,0)(1,0,1)[2]          \n",
      "Total fit time: 6.880 seconds\n",
      "{'maxiter': 50, 'method': 'lbfgs', 'order': (1, 0, 0), 'out_of_sample_size': 0, 'scoring': 'mse', 'scoring_args': {}, 'seasonal_order': (1, 0, 1, 2), 'start_params': None, 'suppress_warnings': True, 'trend': None, 'with_intercept': False}\n",
      "(1, 0, 1, 2)\n"
     ]
    }
   ],
   "source": [
    "#  get results for full dataset:\n",
    "end=pd.to_datetime('2020-10-03')\n",
    "start=pd.to_datetime('2020-04-01')\n",
    "formodel=data[start:end]\n",
    "\n",
    "#   cases_best_training_model for full data\n",
    "stepwise_fit_full = auto_arima(formodel, start_p = 1, start_q = 1, \n",
    "                                max_p = 10, max_q = 30, m = 2,\n",
    "                                start_P = 0, seasonal = True, \n",
    "                                stationary=True,\n",
    "                                trace = True, \n",
    "                                error_action ='ignore',   # we don't want to know if an order does not work \n",
    "                                suppress_warnings = True,  # we don't want convergence warnings \n",
    "                                stepwise = True)           # set to stepwise\n",
    "\n",
    "# pull out the parameters of the best model for this county\n",
    "x_full=stepwise_fit_full.get_params()\n",
    "    \n",
    "# override Q parameter if 0 to 1\n",
    "so_full=x_full['seasonal_order']\n",
    "so_full_slice1=so_full[ :2]\n",
    "if so_full[2]==0:\n",
    "    so_full=so_full_slice1+ (1, 2)\n",
    "\n",
    "print(x_full)\n",
    "print(so_full)"
   ]
  },
  {
   "cell_type": "code",
   "execution_count": 10,
   "metadata": {},
   "outputs": [
    {
     "name": "stderr",
     "output_type": "stream",
     "text": [
      "C:\\Users\\track\\anaconda3\\envs\\MachineLearning\\lib\\site-packages\\statsmodels\\tsa\\base\\tsa_model.py:159: ValueWarning: No frequency information was provided, so inferred frequency D will be used.\n",
      "  warnings.warn('No frequency information was'\n",
      "C:\\Users\\track\\anaconda3\\envs\\MachineLearning\\lib\\site-packages\\statsmodels\\tsa\\base\\tsa_model.py:159: ValueWarning: No frequency information was provided, so inferred frequency D will be used.\n",
      "  warnings.warn('No frequency information was'\n"
     ]
    },
    {
     "data": {
      "text/html": [
       "<table class=\"simpletable\">\n",
       "<caption>SARIMAX Results</caption>\n",
       "<tr>\n",
       "  <th>Dep. Variable:</th>                <td>cases</td>              <th>  No. Observations:  </th>    <td>186</td>   \n",
       "</tr>\n",
       "<tr>\n",
       "  <th>Model:</th>           <td>SARIMAX(1, 0, 0)x(1, 0, [1], 2)</td> <th>  Log Likelihood     </th> <td>-1563.540</td>\n",
       "</tr>\n",
       "<tr>\n",
       "  <th>Date:</th>                   <td>Tue, 20 Oct 2020</td>         <th>  AIC                </th> <td>3135.080</td> \n",
       "</tr>\n",
       "<tr>\n",
       "  <th>Time:</th>                       <td>12:56:58</td>             <th>  BIC                </th> <td>3147.983</td> \n",
       "</tr>\n",
       "<tr>\n",
       "  <th>Sample:</th>                    <td>04-01-2020</td>            <th>  HQIC               </th> <td>3140.308</td> \n",
       "</tr>\n",
       "<tr>\n",
       "  <th></th>                          <td>- 10-03-2020</td>           <th>                     </th>     <td> </td>    \n",
       "</tr>\n",
       "<tr>\n",
       "  <th>Covariance Type:</th>               <td>opg</td>               <th>                     </th>     <td> </td>    \n",
       "</tr>\n",
       "</table>\n",
       "<table class=\"simpletable\">\n",
       "<tr>\n",
       "     <td></td>        <th>coef</th>     <th>std err</th>      <th>z</th>      <th>P>|z|</th>  <th>[0.025</th>    <th>0.975]</th>  \n",
       "</tr>\n",
       "<tr>\n",
       "  <th>ar.L1</th>   <td>    1.0000</td> <td>    0.044</td> <td>   22.556</td> <td> 0.000</td> <td>    0.913</td> <td>    1.087</td>\n",
       "</tr>\n",
       "<tr>\n",
       "  <th>ar.S.L2</th> <td>    0.9999</td> <td>    0.097</td> <td>   10.299</td> <td> 0.000</td> <td>    0.810</td> <td>    1.190</td>\n",
       "</tr>\n",
       "<tr>\n",
       "  <th>ma.S.L2</th> <td>   -0.8997</td> <td>    0.094</td> <td>   -9.571</td> <td> 0.000</td> <td>   -1.084</td> <td>   -0.715</td>\n",
       "</tr>\n",
       "<tr>\n",
       "  <th>sigma2</th>  <td>  1.16e+06</td> <td> 5.78e+04</td> <td>   20.059</td> <td> 0.000</td> <td> 1.05e+06</td> <td> 1.27e+06</td>\n",
       "</tr>\n",
       "</table>\n",
       "<table class=\"simpletable\">\n",
       "<tr>\n",
       "  <th>Ljung-Box (Q):</th>           <td>12.66</td> <th>  Jarque-Bera (JB):  </th> <td>102474.57</td>\n",
       "</tr>\n",
       "<tr>\n",
       "  <th>Prob(Q):</th>                 <td>1.00</td>  <th>  Prob(JB):          </th>   <td>0.00</td>   \n",
       "</tr>\n",
       "<tr>\n",
       "  <th>Heteroskedasticity (H):</th> <td>100.27</td> <th>  Skew:              </th>   <td>9.56</td>   \n",
       "</tr>\n",
       "<tr>\n",
       "  <th>Prob(H) (two-sided):</th>     <td>0.00</td>  <th>  Kurtosis:          </th>  <td>116.39</td>  \n",
       "</tr>\n",
       "</table><br/><br/>Warnings:<br/>[1] Covariance matrix calculated using the outer product of gradients (complex-step)."
      ],
      "text/plain": [
       "<class 'statsmodels.iolib.summary.Summary'>\n",
       "\"\"\"\n",
       "                                      SARIMAX Results                                      \n",
       "===========================================================================================\n",
       "Dep. Variable:                               cases   No. Observations:                  186\n",
       "Model:             SARIMAX(1, 0, 0)x(1, 0, [1], 2)   Log Likelihood               -1563.540\n",
       "Date:                             Tue, 20 Oct 2020   AIC                           3135.080\n",
       "Time:                                     12:56:58   BIC                           3147.983\n",
       "Sample:                                 04-01-2020   HQIC                          3140.308\n",
       "                                      - 10-03-2020                                         \n",
       "Covariance Type:                               opg                                         \n",
       "==============================================================================\n",
       "                 coef    std err          z      P>|z|      [0.025      0.975]\n",
       "------------------------------------------------------------------------------\n",
       "ar.L1          1.0000      0.044     22.556      0.000       0.913       1.087\n",
       "ar.S.L2        0.9999      0.097     10.299      0.000       0.810       1.190\n",
       "ma.S.L2       -0.8997      0.094     -9.571      0.000      -1.084      -0.715\n",
       "sigma2       1.16e+06   5.78e+04     20.059      0.000    1.05e+06    1.27e+06\n",
       "===================================================================================\n",
       "Ljung-Box (Q):                       12.66   Jarque-Bera (JB):            102474.57\n",
       "Prob(Q):                              1.00   Prob(JB):                         0.00\n",
       "Heteroskedasticity (H):             100.27   Skew:                             9.56\n",
       "Prob(H) (two-sided):                  0.00   Kurtosis:                       116.39\n",
       "===================================================================================\n",
       "\n",
       "Warnings:\n",
       "[1] Covariance matrix calculated using the outer product of gradients (complex-step).\n",
       "\"\"\""
      ]
     },
     "execution_count": 10,
     "metadata": {},
     "output_type": "execute_result"
    }
   ],
   "source": [
    "# runs model with best fit ARIMA params\n",
    "full_model = SARIMAX(formodel,\n",
    "                order = (x_full['order']),\n",
    "                seasonal_order =(x_full['seasonal_order']),\n",
    "                initialization='approximate_diffuse')\n",
    "\n",
    "full_result = full_model.fit()\n",
    "\n",
    "full_result.summary()"
   ]
  },
  {
   "cell_type": "code",
   "execution_count": 11,
   "metadata": {},
   "outputs": [
    {
     "data": {
      "text/html": [
       "<div>\n",
       "<style scoped>\n",
       "    .dataframe tbody tr th:only-of-type {\n",
       "        vertical-align: middle;\n",
       "    }\n",
       "\n",
       "    .dataframe tbody tr th {\n",
       "        vertical-align: top;\n",
       "    }\n",
       "\n",
       "    .dataframe thead th {\n",
       "        text-align: right;\n",
       "    }\n",
       "</style>\n",
       "<table border=\"1\" class=\"dataframe\">\n",
       "  <thead>\n",
       "    <tr style=\"text-align: right;\">\n",
       "      <th></th>\n",
       "      <th>Forcast Cases</th>\n",
       "    </tr>\n",
       "    <tr>\n",
       "      <th>Date</th>\n",
       "      <th></th>\n",
       "    </tr>\n",
       "  </thead>\n",
       "  <tbody>\n",
       "    <tr>\n",
       "      <th>2020-10-04</th>\n",
       "      <td>148169.0</td>\n",
       "    </tr>\n",
       "    <tr>\n",
       "      <th>2020-10-05</th>\n",
       "      <td>149790.0</td>\n",
       "    </tr>\n",
       "    <tr>\n",
       "      <th>2020-10-06</th>\n",
       "      <td>150661.0</td>\n",
       "    </tr>\n",
       "    <tr>\n",
       "      <th>2020-10-07</th>\n",
       "      <td>152282.0</td>\n",
       "    </tr>\n",
       "    <tr>\n",
       "      <th>2020-10-08</th>\n",
       "      <td>153153.0</td>\n",
       "    </tr>\n",
       "    <tr>\n",
       "      <th>...</th>\n",
       "      <td>...</td>\n",
       "    </tr>\n",
       "    <tr>\n",
       "      <th>2020-12-28</th>\n",
       "      <td>254228.0</td>\n",
       "    </tr>\n",
       "    <tr>\n",
       "      <th>2020-12-29</th>\n",
       "      <td>255094.0</td>\n",
       "    </tr>\n",
       "    <tr>\n",
       "      <th>2020-12-30</th>\n",
       "      <td>256709.0</td>\n",
       "    </tr>\n",
       "    <tr>\n",
       "      <th>2020-12-31</th>\n",
       "      <td>257575.0</td>\n",
       "    </tr>\n",
       "    <tr>\n",
       "      <th>2021-01-01</th>\n",
       "      <td>259190.0</td>\n",
       "    </tr>\n",
       "  </tbody>\n",
       "</table>\n",
       "<p>90 rows × 1 columns</p>\n",
       "</div>"
      ],
      "text/plain": [
       "            Forcast Cases\n",
       "Date                     \n",
       "2020-10-04       148169.0\n",
       "2020-10-05       149790.0\n",
       "2020-10-06       150661.0\n",
       "2020-10-07       152282.0\n",
       "2020-10-08       153153.0\n",
       "...                   ...\n",
       "2020-12-28       254228.0\n",
       "2020-12-29       255094.0\n",
       "2020-12-30       256709.0\n",
       "2020-12-31       257575.0\n",
       "2021-01-01       259190.0\n",
       "\n",
       "[90 rows x 1 columns]"
      ]
     },
     "execution_count": 11,
     "metadata": {},
     "output_type": "execute_result"
    }
   ],
   "source": [
    "# Getting 120 days (a little more than 6 months in business days) for forecasts\n",
    "SARIMAX_forecast = round(full_result.forecast(steps = 90))\n",
    "\n",
    "idx = pd.date_range('2020-10-04', '2021-01-01', freq='d')\n",
    " \n",
    "SARIMAX_forecast = pd.DataFrame(list(zip(list(idx),list(SARIMAX_forecast))),\n",
    "columns=['Date','Forcast Cases']).set_index('Date')\n",
    "\n",
    "\n",
    "SARIMAX_forecast"
   ]
  },
  {
   "cell_type": "code",
   "execution_count": 12,
   "metadata": {},
   "outputs": [
    {
     "data": {
      "text/plain": [
       "(18353.0, 18627.0)"
      ]
     },
     "execution_count": 12,
     "metadata": {},
     "output_type": "execute_result"
    },
    {
     "data": {
      "image/png": "[encoded data removed]",
      "text/plain": [
       "<Figure size 1080x720 with 1 Axes>"
      ]
     },
     "metadata": {
      "needs_background": "light"
     },
     "output_type": "display_data"
    }
   ],
   "source": [
    "# Graph\n",
    "fig, ax = plt.subplots(figsize=(15,10))\n",
    "npre = 4\n",
    "ax.set(title= f'{CtyName} Covid-19 Cases', xlabel='Date', ylabel='Number of Cases')\n",
    "\n",
    "\n",
    "# Plot data points\n",
    "data.loc['2020-04-01':].plot(ax=ax, style='o', label='Observed Cases')\n",
    "\n",
    "# Plot predictions\n",
    "SARIMAX_forecast.loc['2020-10-03':].plot(ax=ax, style='r--', label='Sarimax forecast')\n",
    "\n",
    "# predict.predicted_mean.loc['2020-04-01':].plot(ax=ax, style='r--', label='One-step-ahead forecast')\n",
    "# ci = predict_ci.loc['2020-04-01':]\n",
    "# ax.fill_between(ci.index, ci.iloc[:,0], ci.iloc[:,1], color='r', alpha=0.1)\n",
    "# predict_dy.predicted_mean.loc['2020-04-01':].plot(ax=ax, style='g', label='Dynamic forecast')\n",
    "# ci = predict_dy_ci.loc['2020-04-01':]\n",
    "# ax.fill_between(ci.index, ci.iloc[:,0], ci.iloc[:,1], color='g', alpha=0.1)\n",
    "\n",
    "\n",
    "legend = ax.legend(loc='lower right')\n",
    "ax.set_xlim(np.datetime64('2020-04-01'), np.datetime64('2020-12-31'))"
   ]
  },
  {
   "cell_type": "code",
   "execution_count": null,
   "metadata": {},
   "outputs": [],
   "source": []
  }
 ],
 "metadata": {
  "kernelspec": {
   "display_name": "Python [conda env:MachineLearning] *",
   "language": "python",
   "name": "conda-env-MachineLearning-py"
  },
  "language_info": {
   "codemirror_mode": {
    "name": "ipython",
    "version": 3
   },
   "file_extension": ".py",
   "mimetype": "text/x-python",
   "name": "python",
   "nbconvert_exporter": "python",
   "pygments_lexer": "ipython3",
   "version": "3.8.5"
  }
 },
 "nbformat": 4,
 "nbformat_minor": 4
}
