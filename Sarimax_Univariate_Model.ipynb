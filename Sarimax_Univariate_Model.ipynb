{
 "cells": [
  {
   "cell_type": "markdown",
   "metadata": {},
   "source": [
    "ARIMA MODEL NO DECOMP OR DIFFERNCING PRIOR TO RUNNING"
   ]
  },
  {
   "cell_type": "code",
   "execution_count": 1,
   "metadata": {},
   "outputs": [],
   "source": [
    "import numpy as np\n",
    "import pandas as pd\n",
    "import warnings\n",
    "warnings.filterwarnings('ignore')\n",
    "import matplotlib.pyplot as plt"
   ]
  },
  {
   "cell_type": "code",
   "execution_count": 2,
   "metadata": {},
   "outputs": [
    {
     "data": {
      "text/html": [
       "<div>\n",
       "<style scoped>\n",
       "    .dataframe tbody tr th:only-of-type {\n",
       "        vertical-align: middle;\n",
       "    }\n",
       "\n",
       "    .dataframe tbody tr th {\n",
       "        vertical-align: top;\n",
       "    }\n",
       "\n",
       "    .dataframe thead th {\n",
       "        text-align: right;\n",
       "    }\n",
       "</style>\n",
       "<table border=\"1\" class=\"dataframe\">\n",
       "  <thead>\n",
       "    <tr style=\"text-align: right;\">\n",
       "      <th></th>\n",
       "      <th>cases</th>\n",
       "      <th>deaths</th>\n",
       "    </tr>\n",
       "    <tr>\n",
       "      <th>date</th>\n",
       "      <th></th>\n",
       "      <th></th>\n",
       "    </tr>\n",
       "  </thead>\n",
       "  <tbody>\n",
       "    <tr>\n",
       "      <th>2020-02-12</th>\n",
       "      <td>1</td>\n",
       "      <td>0</td>\n",
       "    </tr>\n",
       "    <tr>\n",
       "      <th>2020-02-13</th>\n",
       "      <td>2</td>\n",
       "      <td>0</td>\n",
       "    </tr>\n",
       "    <tr>\n",
       "      <th>2020-02-14</th>\n",
       "      <td>2</td>\n",
       "      <td>0</td>\n",
       "    </tr>\n",
       "    <tr>\n",
       "      <th>2020-02-15</th>\n",
       "      <td>2</td>\n",
       "      <td>0</td>\n",
       "    </tr>\n",
       "    <tr>\n",
       "      <th>2020-02-16</th>\n",
       "      <td>2</td>\n",
       "      <td>0</td>\n",
       "    </tr>\n",
       "    <tr>\n",
       "      <th>...</th>\n",
       "      <td>...</td>\n",
       "      <td>...</td>\n",
       "    </tr>\n",
       "    <tr>\n",
       "      <th>2020-09-29</th>\n",
       "      <td>57689</td>\n",
       "      <td>1303</td>\n",
       "    </tr>\n",
       "    <tr>\n",
       "      <th>2020-09-30</th>\n",
       "      <td>57844</td>\n",
       "      <td>1313</td>\n",
       "    </tr>\n",
       "    <tr>\n",
       "      <th>2020-10-01</th>\n",
       "      <td>57948</td>\n",
       "      <td>1318</td>\n",
       "    </tr>\n",
       "    <tr>\n",
       "      <th>2020-10-02</th>\n",
       "      <td>58051</td>\n",
       "      <td>1323</td>\n",
       "    </tr>\n",
       "    <tr>\n",
       "      <th>2020-10-03</th>\n",
       "      <td>58196</td>\n",
       "      <td>1329</td>\n",
       "    </tr>\n",
       "  </tbody>\n",
       "</table>\n",
       "<p>235 rows × 2 columns</p>\n",
       "</div>"
      ],
      "text/plain": [
       "            cases  deaths\n",
       "date                     \n",
       "2020-02-12      1       0\n",
       "2020-02-13      2       0\n",
       "2020-02-14      2       0\n",
       "2020-02-15      2       0\n",
       "2020-02-16      2       0\n",
       "...           ...     ...\n",
       "2020-09-29  57689    1303\n",
       "2020-09-30  57844    1313\n",
       "2020-10-01  57948    1318\n",
       "2020-10-02  58051    1323\n",
       "2020-10-03  58196    1329\n",
       "\n",
       "[235 rows x 2 columns]"
      ]
     },
     "execution_count": 2,
     "metadata": {},
     "output_type": "execute_result"
    }
   ],
   "source": [
    "#filepath\n",
    "NYT_file=\"Potential Data Sources/NYT- Cty Cases Deaths Thru Oct2/us-counties.csv\"\n",
    "\n",
    "#read dataset\n",
    "NYT=pd.read_csv(NYT_file, parse_dates=['date'])\n",
    "\n",
    "# limit dataset to texas\n",
    "Texas=NYT.loc[NYT['state']=='Texas'].dropna(how='any', axis=0)\n",
    "Texas['county']=Texas['county'].map(str)+' County'\n",
    "Texas2=Texas.drop(['fips', 'state'], axis=1)\n",
    "\n",
    "### pick a county\n",
    "CtyName='Bexar County'\n",
    "CountyChoice=Texas2.loc[Texas2['county']==CtyName].set_index('date')\n",
    "CountyChoice2=CountyChoice.drop('county', axis=1)\n",
    "\n",
    "# CountyChoice2=Texas2\n",
    "CountyChoice2"
   ]
  },
  {
   "cell_type": "code",
   "execution_count": 3,
   "metadata": {},
   "outputs": [
    {
     "name": "stdout",
     "output_type": "stream",
     "text": [
      "Performing stepwise search to minimize aic\n",
      " ARIMA(1,0,1)(0,0,1)[12] intercept   : AIC=3641.428, Time=1.08 sec\n",
      " ARIMA(0,0,0)(0,0,0)[12] intercept   : AIC=5341.127, Time=0.01 sec\n",
      " ARIMA(1,0,0)(1,0,0)[12] intercept   : AIC=inf, Time=1.15 sec\n",
      " ARIMA(0,0,1)(0,0,1)[12] intercept   : AIC=inf, Time=0.71 sec\n",
      " ARIMA(0,0,0)(0,0,0)[12]             : AIC=5466.899, Time=0.01 sec\n",
      " ARIMA(1,0,1)(0,0,0)[12] intercept   : AIC=3658.993, Time=0.36 sec\n",
      " ARIMA(1,0,1)(1,0,1)[12] intercept   : AIC=3638.265, Time=1.26 sec\n",
      " ARIMA(1,0,1)(1,0,0)[12] intercept   : AIC=3636.865, Time=1.37 sec\n",
      " ARIMA(1,0,1)(2,0,0)[12] intercept   : AIC=3636.724, Time=2.29 sec\n",
      " ARIMA(1,0,1)(2,0,1)[12] intercept   : AIC=inf, Time=3.04 sec\n",
      " ARIMA(0,0,1)(2,0,0)[12] intercept   : AIC=inf, Time=2.38 sec\n",
      " ARIMA(1,0,0)(2,0,0)[12] intercept   : AIC=inf, Time=3.64 sec\n",
      " ARIMA(2,0,1)(2,0,0)[12] intercept   : AIC=inf, Time=2.82 sec\n",
      " ARIMA(1,0,2)(2,0,0)[12] intercept   : AIC=3629.956, Time=2.41 sec\n",
      " ARIMA(1,0,2)(1,0,0)[12] intercept   : AIC=3630.122, Time=1.28 sec\n",
      " ARIMA(1,0,2)(2,0,1)[12] intercept   : AIC=inf, Time=2.98 sec\n",
      " ARIMA(1,0,2)(1,0,1)[12] intercept   : AIC=3631.271, Time=1.34 sec\n",
      " ARIMA(0,0,2)(2,0,0)[12] intercept   : AIC=inf, Time=2.17 sec\n",
      " ARIMA(2,0,2)(2,0,0)[12] intercept   : AIC=inf, Time=2.67 sec\n",
      " ARIMA(1,0,3)(2,0,0)[12] intercept   : AIC=3589.812, Time=2.68 sec\n",
      " ARIMA(1,0,3)(1,0,0)[12] intercept   : AIC=3587.962, Time=1.09 sec\n",
      " ARIMA(1,0,3)(0,0,0)[12] intercept   : AIC=3595.122, Time=0.59 sec\n",
      " ARIMA(1,0,3)(1,0,1)[12] intercept   : AIC=3589.923, Time=1.39 sec\n",
      " ARIMA(1,0,3)(0,0,1)[12] intercept   : AIC=3587.912, Time=1.17 sec\n",
      " ARIMA(1,0,3)(0,0,2)[12] intercept   : AIC=3589.333, Time=2.89 sec\n",
      " ARIMA(1,0,3)(1,0,2)[12] intercept   : AIC=inf, Time=3.31 sec\n",
      " ARIMA(0,0,3)(0,0,1)[12] intercept   : AIC=inf, Time=1.46 sec\n",
      " ARIMA(1,0,2)(0,0,1)[12] intercept   : AIC=3634.598, Time=1.04 sec\n",
      " ARIMA(2,0,3)(0,0,1)[12] intercept   : AIC=3589.261, Time=1.38 sec\n",
      " ARIMA(1,0,4)(0,0,1)[12] intercept   : AIC=3590.413, Time=1.43 sec\n",
      " ARIMA(0,0,2)(0,0,1)[12] intercept   : AIC=inf, Time=1.15 sec\n",
      " ARIMA(0,0,4)(0,0,1)[12] intercept   : AIC=inf, Time=2.07 sec\n",
      " ARIMA(2,0,2)(0,0,1)[12] intercept   : AIC=inf, Time=1.31 sec\n",
      " ARIMA(2,0,4)(0,0,1)[12] intercept   : AIC=inf, Time=1.64 sec\n",
      " ARIMA(1,0,3)(0,0,1)[12]             : AIC=3584.532, Time=0.98 sec\n",
      " ARIMA(1,0,3)(0,0,0)[12]             : AIC=3591.054, Time=0.54 sec\n",
      " ARIMA(1,0,3)(1,0,1)[12]             : AIC=3589.417, Time=1.29 sec\n",
      " ARIMA(1,0,3)(0,0,2)[12]             : AIC=3586.189, Time=2.34 sec\n",
      " ARIMA(1,0,3)(1,0,0)[12]             : AIC=3584.309, Time=0.91 sec\n",
      " ARIMA(1,0,3)(2,0,0)[12]             : AIC=3586.507, Time=2.15 sec\n",
      " ARIMA(1,0,3)(2,0,1)[12]             : AIC=3590.570, Time=2.99 sec\n",
      " ARIMA(0,0,3)(1,0,0)[12]             : AIC=inf, Time=1.35 sec\n",
      " ARIMA(1,0,2)(1,0,0)[12]             : AIC=3625.716, Time=0.68 sec\n",
      " ARIMA(2,0,3)(1,0,0)[12]             : AIC=3586.850, Time=1.12 sec\n",
      " ARIMA(1,0,4)(1,0,0)[12]             : AIC=3587.031, Time=0.91 sec\n",
      " ARIMA(0,0,2)(1,0,0)[12]             : AIC=inf, Time=nan sec\n",
      " ARIMA(0,0,4)(1,0,0)[12]             : AIC=inf, Time=1.51 sec\n",
      " ARIMA(2,0,2)(1,0,0)[12]             : AIC=inf, Time=0.97 sec\n",
      " ARIMA(2,0,4)(1,0,0)[12]             : AIC=inf, Time=1.21 sec\n",
      "\n",
      "Best model:  ARIMA(1,0,3)(1,0,0)[12]          \n",
      "Total fit time: 77.095 seconds\n"
     ]
    },
    {
     "data": {
      "text/html": [
       "<table class=\"simpletable\">\n",
       "<caption>SARIMAX Results</caption>\n",
       "<tr>\n",
       "  <th>Dep. Variable:</th>                  <td>y</td>                <th>  No. Observations:  </th>    <td>235</td>   \n",
       "</tr>\n",
       "<tr>\n",
       "  <th>Model:</th>           <td>SARIMAX(1, 0, 3)x(1, 0, [], 12)</td> <th>  Log Likelihood     </th> <td>-1786.155</td>\n",
       "</tr>\n",
       "<tr>\n",
       "  <th>Date:</th>                   <td>Fri, 16 Oct 2020</td>         <th>  AIC                </th> <td>3584.309</td> \n",
       "</tr>\n",
       "<tr>\n",
       "  <th>Time:</th>                       <td>17:27:00</td>             <th>  BIC                </th> <td>3605.067</td> \n",
       "</tr>\n",
       "<tr>\n",
       "  <th>Sample:</th>                         <td>0</td>                <th>  HQIC               </th> <td>3592.678</td> \n",
       "</tr>\n",
       "<tr>\n",
       "  <th></th>                             <td> - 235</td>              <th>                     </th>     <td> </td>    \n",
       "</tr>\n",
       "<tr>\n",
       "  <th>Covariance Type:</th>               <td>opg</td>               <th>                     </th>     <td> </td>    \n",
       "</tr>\n",
       "</table>\n",
       "<table class=\"simpletable\">\n",
       "<tr>\n",
       "      <td></td>        <th>coef</th>     <th>std err</th>      <th>z</th>      <th>P>|z|</th>  <th>[0.025</th>    <th>0.975]</th>  \n",
       "</tr>\n",
       "<tr>\n",
       "  <th>ar.L1</th>    <td>    0.9998</td> <td>    0.000</td> <td> 2740.428</td> <td> 0.000</td> <td>    0.999</td> <td>    1.001</td>\n",
       "</tr>\n",
       "<tr>\n",
       "  <th>ma.L1</th>    <td>    0.1422</td> <td>    0.047</td> <td>    3.027</td> <td> 0.002</td> <td>    0.050</td> <td>    0.234</td>\n",
       "</tr>\n",
       "<tr>\n",
       "  <th>ma.L2</th>    <td>    0.4339</td> <td>    0.039</td> <td>   11.257</td> <td> 0.000</td> <td>    0.358</td> <td>    0.509</td>\n",
       "</tr>\n",
       "<tr>\n",
       "  <th>ma.L3</th>    <td>    0.5101</td> <td>    0.049</td> <td>   10.347</td> <td> 0.000</td> <td>    0.413</td> <td>    0.607</td>\n",
       "</tr>\n",
       "<tr>\n",
       "  <th>ar.S.L12</th> <td>    0.2145</td> <td>    0.097</td> <td>    2.206</td> <td> 0.027</td> <td>    0.024</td> <td>    0.405</td>\n",
       "</tr>\n",
       "<tr>\n",
       "  <th>sigma2</th>   <td> 2.253e+05</td> <td> 8726.960</td> <td>   25.814</td> <td> 0.000</td> <td> 2.08e+05</td> <td> 2.42e+05</td>\n",
       "</tr>\n",
       "</table>\n",
       "<table class=\"simpletable\">\n",
       "<tr>\n",
       "  <th>Ljung-Box (Q):</th>           <td>56.68</td> <th>  Jarque-Bera (JB):  </th> <td>24284.41</td>\n",
       "</tr>\n",
       "<tr>\n",
       "  <th>Prob(Q):</th>                 <td>0.04</td>  <th>  Prob(JB):          </th>   <td>0.00</td>  \n",
       "</tr>\n",
       "<tr>\n",
       "  <th>Heteroskedasticity (H):</th> <td>557.58</td> <th>  Skew:              </th>   <td>5.52</td>  \n",
       "</tr>\n",
       "<tr>\n",
       "  <th>Prob(H) (two-sided):</th>     <td>0.00</td>  <th>  Kurtosis:          </th>   <td>51.56</td> \n",
       "</tr>\n",
       "</table><br/><br/>Warnings:<br/>[1] Covariance matrix calculated using the outer product of gradients (complex-step)."
      ],
      "text/plain": [
       "<class 'statsmodels.iolib.summary.Summary'>\n",
       "\"\"\"\n",
       "                                      SARIMAX Results                                      \n",
       "===========================================================================================\n",
       "Dep. Variable:                                   y   No. Observations:                  235\n",
       "Model:             SARIMAX(1, 0, 3)x(1, 0, [], 12)   Log Likelihood               -1786.155\n",
       "Date:                             Fri, 16 Oct 2020   AIC                           3584.309\n",
       "Time:                                     17:27:00   BIC                           3605.067\n",
       "Sample:                                          0   HQIC                          3592.678\n",
       "                                             - 235                                         \n",
       "Covariance Type:                               opg                                         \n",
       "==============================================================================\n",
       "                 coef    std err          z      P>|z|      [0.025      0.975]\n",
       "------------------------------------------------------------------------------\n",
       "ar.L1          0.9998      0.000   2740.428      0.000       0.999       1.001\n",
       "ma.L1          0.1422      0.047      3.027      0.002       0.050       0.234\n",
       "ma.L2          0.4339      0.039     11.257      0.000       0.358       0.509\n",
       "ma.L3          0.5101      0.049     10.347      0.000       0.413       0.607\n",
       "ar.S.L12       0.2145      0.097      2.206      0.027       0.024       0.405\n",
       "sigma2      2.253e+05   8726.960     25.814      0.000    2.08e+05    2.42e+05\n",
       "===================================================================================\n",
       "Ljung-Box (Q):                       56.68   Jarque-Bera (JB):             24284.41\n",
       "Prob(Q):                              0.04   Prob(JB):                         0.00\n",
       "Heteroskedasticity (H):             557.58   Skew:                             5.52\n",
       "Prob(H) (two-sided):                  0.00   Kurtosis:                        51.56\n",
       "===================================================================================\n",
       "\n",
       "Warnings:\n",
       "[1] Covariance matrix calculated using the outer product of gradients (complex-step).\n",
       "\"\"\""
      ]
     },
     "execution_count": 3,
     "metadata": {},
     "output_type": "execute_result"
    }
   ],
   "source": [
    "#param analysis for ARIMA model:\n",
    "data=CountyChoice2['cases']\n",
    "\n",
    "# Import the library \n",
    "from pmdarima import auto_arima \n",
    "  \n",
    "# Fit auto_arima function to AirPassengers dataset \n",
    "stepwise_fit = auto_arima(data, start_p = 1, start_q = 1, \n",
    "                          max_p = 10, max_q = 10, m = 12, #monthly\n",
    "                          start_P = 0, seasonal = True, \n",
    "                          stationary=True,\n",
    "                          trace = True, \n",
    "                          error_action ='ignore',   # we don't want to know if an order does not work \n",
    "                          suppress_warnings = True,  # we don't want convergence warnings \n",
    "                          stepwise = True)           # set to stepwise \n",
    "  \n",
    "# To print the summary \n",
    "stepwise_fit.summary() "
   ]
  },
  {
   "cell_type": "code",
   "execution_count": 4,
   "metadata": {},
   "outputs": [
    {
     "name": "stdout",
     "output_type": "stream",
     "text": [
      "(171,) (64,)\n"
     ]
    }
   ],
   "source": [
    "# Split data into train / test sets \n",
    "# Isolate only the transformed data into a dataframe for the model\n",
    "\n",
    "# split test train \n",
    "end_train=pd.to_datetime('2020-07-31')\n",
    "start_test=pd.to_datetime('2020-08-01')\n",
    "train=data[:end_train]\n",
    "test=data[start_test:]\n",
    "print(train.shape, test.shape)"
   ]
  },
  {
   "cell_type": "code",
   "execution_count": 5,
   "metadata": {},
   "outputs": [
    {
     "name": "stderr",
     "output_type": "stream",
     "text": [
      "C:\\Users\\track\\anaconda3\\envs\\MachineLearning\\lib\\site-packages\\statsmodels\\tsa\\base\\tsa_model.py:159: ValueWarning: No frequency information was provided, so inferred frequency D will be used.\n",
      "  warnings.warn('No frequency information was'\n",
      "C:\\Users\\track\\anaconda3\\envs\\MachineLearning\\lib\\site-packages\\statsmodels\\tsa\\base\\tsa_model.py:159: ValueWarning: No frequency information was provided, so inferred frequency D will be used.\n",
      "  warnings.warn('No frequency information was'\n"
     ]
    },
    {
     "data": {
      "text/html": [
       "<table class=\"simpletable\">\n",
       "<caption>SARIMAX Results</caption>\n",
       "<tr>\n",
       "  <th>Dep. Variable:</th>                <td>cases</td>              <th>  No. Observations:  </th>    <td>171</td>   \n",
       "</tr>\n",
       "<tr>\n",
       "  <th>Model:</th>           <td>SARIMAX(1, 0, 3)x(1, 0, [], 12)</td> <th>  Log Likelihood     </th> <td>-1289.641</td>\n",
       "</tr>\n",
       "<tr>\n",
       "  <th>Date:</th>                   <td>Fri, 16 Oct 2020</td>         <th>  AIC                </th> <td>2591.281</td> \n",
       "</tr>\n",
       "<tr>\n",
       "  <th>Time:</th>                       <td>17:27:01</td>             <th>  BIC                </th> <td>2610.131</td> \n",
       "</tr>\n",
       "<tr>\n",
       "  <th>Sample:</th>                    <td>02-12-2020</td>            <th>  HQIC               </th> <td>2598.930</td> \n",
       "</tr>\n",
       "<tr>\n",
       "  <th></th>                          <td>- 07-31-2020</td>           <th>                     </th>     <td> </td>    \n",
       "</tr>\n",
       "<tr>\n",
       "  <th>Covariance Type:</th>               <td>opg</td>               <th>                     </th>     <td> </td>    \n",
       "</tr>\n",
       "</table>\n",
       "<table class=\"simpletable\">\n",
       "<tr>\n",
       "      <td></td>        <th>coef</th>     <th>std err</th>      <th>z</th>      <th>P>|z|</th>  <th>[0.025</th>    <th>0.975]</th>  \n",
       "</tr>\n",
       "<tr>\n",
       "  <th>ar.L1</th>    <td>    0.9992</td> <td>    0.002</td> <td>  609.262</td> <td> 0.000</td> <td>    0.996</td> <td>    1.002</td>\n",
       "</tr>\n",
       "<tr>\n",
       "  <th>ma.L1</th>    <td>    0.1228</td> <td>    0.051</td> <td>    2.419</td> <td> 0.016</td> <td>    0.023</td> <td>    0.222</td>\n",
       "</tr>\n",
       "<tr>\n",
       "  <th>ma.L2</th>    <td>    0.4057</td> <td>    0.039</td> <td>   10.382</td> <td> 0.000</td> <td>    0.329</td> <td>    0.482</td>\n",
       "</tr>\n",
       "<tr>\n",
       "  <th>ma.L3</th>    <td>    0.4962</td> <td>    0.065</td> <td>    7.606</td> <td> 0.000</td> <td>    0.368</td> <td>    0.624</td>\n",
       "</tr>\n",
       "<tr>\n",
       "  <th>ar.S.L12</th> <td>    0.3047</td> <td>    0.091</td> <td>    3.334</td> <td> 0.001</td> <td>    0.126</td> <td>    0.484</td>\n",
       "</tr>\n",
       "<tr>\n",
       "  <th>sigma2</th>   <td>  1.89e+05</td> <td> 7478.194</td> <td>   25.274</td> <td> 0.000</td> <td> 1.74e+05</td> <td> 2.04e+05</td>\n",
       "</tr>\n",
       "</table>\n",
       "<table class=\"simpletable\">\n",
       "<tr>\n",
       "  <th>Ljung-Box (Q):</th>           <td>47.67</td>  <th>  Jarque-Bera (JB):  </th> <td>50715.36</td>\n",
       "</tr>\n",
       "<tr>\n",
       "  <th>Prob(Q):</th>                 <td>0.19</td>   <th>  Prob(JB):          </th>   <td>0.00</td>  \n",
       "</tr>\n",
       "<tr>\n",
       "  <th>Heteroskedasticity (H):</th> <td>3058.15</td> <th>  Skew:              </th>   <td>7.92</td>  \n",
       "</tr>\n",
       "<tr>\n",
       "  <th>Prob(H) (two-sided):</th>     <td>0.00</td>   <th>  Kurtosis:          </th>   <td>85.87</td> \n",
       "</tr>\n",
       "</table><br/><br/>Warnings:<br/>[1] Covariance matrix calculated using the outer product of gradients (complex-step)."
      ],
      "text/plain": [
       "<class 'statsmodels.iolib.summary.Summary'>\n",
       "\"\"\"\n",
       "                                      SARIMAX Results                                      \n",
       "===========================================================================================\n",
       "Dep. Variable:                               cases   No. Observations:                  171\n",
       "Model:             SARIMAX(1, 0, 3)x(1, 0, [], 12)   Log Likelihood               -1289.641\n",
       "Date:                             Fri, 16 Oct 2020   AIC                           2591.281\n",
       "Time:                                     17:27:01   BIC                           2610.131\n",
       "Sample:                                 02-12-2020   HQIC                          2598.930\n",
       "                                      - 07-31-2020                                         \n",
       "Covariance Type:                               opg                                         \n",
       "==============================================================================\n",
       "                 coef    std err          z      P>|z|      [0.025      0.975]\n",
       "------------------------------------------------------------------------------\n",
       "ar.L1          0.9992      0.002    609.262      0.000       0.996       1.002\n",
       "ma.L1          0.1228      0.051      2.419      0.016       0.023       0.222\n",
       "ma.L2          0.4057      0.039     10.382      0.000       0.329       0.482\n",
       "ma.L3          0.4962      0.065      7.606      0.000       0.368       0.624\n",
       "ar.S.L12       0.3047      0.091      3.334      0.001       0.126       0.484\n",
       "sigma2       1.89e+05   7478.194     25.274      0.000    1.74e+05    2.04e+05\n",
       "===================================================================================\n",
       "Ljung-Box (Q):                       47.67   Jarque-Bera (JB):             50715.36\n",
       "Prob(Q):                              0.19   Prob(JB):                         0.00\n",
       "Heteroskedasticity (H):            3058.15   Skew:                             7.92\n",
       "Prob(H) (two-sided):                  0.00   Kurtosis:                        85.87\n",
       "===================================================================================\n",
       "\n",
       "Warnings:\n",
       "[1] Covariance matrix calculated using the outer product of gradients (complex-step).\n",
       "\"\"\""
      ]
     },
     "execution_count": 5,
     "metadata": {},
     "output_type": "execute_result"
    }
   ],
   "source": [
    "# Fit a SARIMAX(1,0,1)(2,0,0,12) on the training set \n",
    "from statsmodels.tsa.statespace.sarimax import SARIMAX \n",
    "  \n",
    "model = SARIMAX(train,  \n",
    "                order = (1, 0, 3),  \n",
    "                seasonal_order =(1, 0, 0, 12)) \n",
    "  \n",
    "result = model.fit() \n",
    "result.summary() "
   ]
  },
  {
   "cell_type": "code",
   "execution_count": 6,
   "metadata": {},
   "outputs": [
    {
     "data": {
      "image/png": "[encoded data removed]",
      "text/plain": [
       "<Figure size 1080x864 with 4 Axes>"
      ]
     },
     "metadata": {
      "needs_background": "light"
     },
     "output_type": "display_data"
    }
   ],
   "source": [
    "result.plot_diagnostics(figsize=(15,12));"
   ]
  },
  {
   "cell_type": "code",
   "execution_count": 7,
   "metadata": {},
   "outputs": [
    {
     "data": {
      "text/plain": [
       "<AxesSubplot:xlabel='date'>"
      ]
     },
     "execution_count": 7,
     "metadata": {},
     "output_type": "execute_result"
    },
    {
     "data": {
      "image/png": "[encoded data removed]",
      "text/plain": [
       "<Figure size 432x288 with 1 Axes>"
      ]
     },
     "metadata": {
      "needs_background": "light"
     },
     "output_type": "display_data"
    }
   ],
   "source": [
    "# compare test train\n",
    "start = len(train) \n",
    "end = len(train) + len(test) - 1\n",
    "  \n",
    "# Predictions for one-year against the test set \n",
    "predictions = result.predict(start, end).rename(\"Predictions\") \n",
    "  \n",
    "# plot predictions and actual values \n",
    "predictions.plot(legend = True) \n",
    "data.plot(legend = True) "
   ]
  },
  {
   "cell_type": "code",
   "execution_count": 9,
   "metadata": {},
   "outputs": [
    {
     "name": "stderr",
     "output_type": "stream",
     "text": [
      "C:\\Users\\track\\anaconda3\\envs\\MachineLearning\\lib\\site-packages\\statsmodels\\tsa\\base\\tsa_model.py:159: ValueWarning: No frequency information was provided, so inferred frequency D will be used.\n",
      "  warnings.warn('No frequency information was'\n",
      "C:\\Users\\track\\anaconda3\\envs\\MachineLearning\\lib\\site-packages\\statsmodels\\tsa\\base\\tsa_model.py:159: ValueWarning: No frequency information was provided, so inferred frequency D will be used.\n",
      "  warnings.warn('No frequency information was'\n",
      "C:\\Users\\track\\anaconda3\\envs\\MachineLearning\\lib\\site-packages\\statsmodels\\base\\model.py:567: ConvergenceWarning: Maximum Likelihood optimization failed to converge. Check mle_retvals\n",
      "  warn(\"Maximum Likelihood optimization failed to converge. \"\n"
     ]
    },
    {
     "data": {
      "text/html": [
       "<table class=\"simpletable\">\n",
       "<caption>SARIMAX Results</caption>\n",
       "<tr>\n",
       "  <th>Dep. Variable:</th>                <td>cases</td>              <th>  No. Observations:  </th>    <td>186</td>   \n",
       "</tr>\n",
       "<tr>\n",
       "  <th>Model:</th>           <td>SARIMAX(1, 0, 3)x(1, 0, [], 12)</td> <th>  Log Likelihood     </th> <td>-1437.172</td>\n",
       "</tr>\n",
       "<tr>\n",
       "  <th>Date:</th>                   <td>Fri, 16 Oct 2020</td>         <th>  AIC                </th> <td>2886.345</td> \n",
       "</tr>\n",
       "<tr>\n",
       "  <th>Time:</th>                       <td>17:27:30</td>             <th>  BIC                </th> <td>2905.699</td> \n",
       "</tr>\n",
       "<tr>\n",
       "  <th>Sample:</th>                    <td>04-01-2020</td>            <th>  HQIC               </th> <td>2894.188</td> \n",
       "</tr>\n",
       "<tr>\n",
       "  <th></th>                          <td>- 10-03-2020</td>           <th>                     </th>     <td> </td>    \n",
       "</tr>\n",
       "<tr>\n",
       "  <th>Covariance Type:</th>               <td>opg</td>               <th>                     </th>     <td> </td>    \n",
       "</tr>\n",
       "</table>\n",
       "<table class=\"simpletable\">\n",
       "<tr>\n",
       "      <td></td>        <th>coef</th>     <th>std err</th>      <th>z</th>      <th>P>|z|</th>  <th>[0.025</th>    <th>0.975]</th>  \n",
       "</tr>\n",
       "<tr>\n",
       "  <th>ar.L1</th>    <td>    0.9999</td> <td>    0.000</td> <td> 6591.110</td> <td> 0.000</td> <td>    1.000</td> <td>    1.000</td>\n",
       "</tr>\n",
       "<tr>\n",
       "  <th>ma.L1</th>    <td>    0.1343</td> <td>    0.063</td> <td>    2.143</td> <td> 0.032</td> <td>    0.011</td> <td>    0.257</td>\n",
       "</tr>\n",
       "<tr>\n",
       "  <th>ma.L2</th>    <td>    0.4349</td> <td>    0.045</td> <td>    9.606</td> <td> 0.000</td> <td>    0.346</td> <td>    0.524</td>\n",
       "</tr>\n",
       "<tr>\n",
       "  <th>ma.L3</th>    <td>    0.5021</td> <td>    0.053</td> <td>    9.506</td> <td> 0.000</td> <td>    0.399</td> <td>    0.606</td>\n",
       "</tr>\n",
       "<tr>\n",
       "  <th>ar.S.L12</th> <td>    0.2169</td> <td>    0.111</td> <td>    1.948</td> <td> 0.051</td> <td>   -0.001</td> <td>    0.435</td>\n",
       "</tr>\n",
       "<tr>\n",
       "  <th>sigma2</th>   <td> 2.949e+05</td> <td> 4.64e-07</td> <td> 6.36e+11</td> <td> 0.000</td> <td> 2.95e+05</td> <td> 2.95e+05</td>\n",
       "</tr>\n",
       "</table>\n",
       "<table class=\"simpletable\">\n",
       "<tr>\n",
       "  <th>Ljung-Box (Q):</th>           <td>44.70</td> <th>  Jarque-Bera (JB):  </th> <td>11859.96</td>\n",
       "</tr>\n",
       "<tr>\n",
       "  <th>Prob(Q):</th>                 <td>0.28</td>  <th>  Prob(JB):          </th>   <td>0.00</td>  \n",
       "</tr>\n",
       "<tr>\n",
       "  <th>Heteroskedasticity (H):</th> <td>142.78</td> <th>  Skew:              </th>   <td>4.86</td>  \n",
       "</tr>\n",
       "<tr>\n",
       "  <th>Prob(H) (two-sided):</th>     <td>0.00</td>  <th>  Kurtosis:          </th>   <td>40.89</td> \n",
       "</tr>\n",
       "</table><br/><br/>Warnings:<br/>[1] Covariance matrix calculated using the outer product of gradients (complex-step).<br/>[2] Covariance matrix is singular or near-singular, with condition number 2.3e+27. Standard errors may be unstable."
      ],
      "text/plain": [
       "<class 'statsmodels.iolib.summary.Summary'>\n",
       "\"\"\"\n",
       "                                      SARIMAX Results                                      \n",
       "===========================================================================================\n",
       "Dep. Variable:                               cases   No. Observations:                  186\n",
       "Model:             SARIMAX(1, 0, 3)x(1, 0, [], 12)   Log Likelihood               -1437.172\n",
       "Date:                             Fri, 16 Oct 2020   AIC                           2886.345\n",
       "Time:                                     17:27:30   BIC                           2905.699\n",
       "Sample:                                 04-01-2020   HQIC                          2894.188\n",
       "                                      - 10-03-2020                                         \n",
       "Covariance Type:                               opg                                         \n",
       "==============================================================================\n",
       "                 coef    std err          z      P>|z|      [0.025      0.975]\n",
       "------------------------------------------------------------------------------\n",
       "ar.L1          0.9999      0.000   6591.110      0.000       1.000       1.000\n",
       "ma.L1          0.1343      0.063      2.143      0.032       0.011       0.257\n",
       "ma.L2          0.4349      0.045      9.606      0.000       0.346       0.524\n",
       "ma.L3          0.5021      0.053      9.506      0.000       0.399       0.606\n",
       "ar.S.L12       0.2169      0.111      1.948      0.051      -0.001       0.435\n",
       "sigma2      2.949e+05   4.64e-07   6.36e+11      0.000    2.95e+05    2.95e+05\n",
       "===================================================================================\n",
       "Ljung-Box (Q):                       44.70   Jarque-Bera (JB):             11859.96\n",
       "Prob(Q):                              0.28   Prob(JB):                         0.00\n",
       "Heteroskedasticity (H):             142.78   Skew:                             4.86\n",
       "Prob(H) (two-sided):                  0.00   Kurtosis:                        40.89\n",
       "===================================================================================\n",
       "\n",
       "Warnings:\n",
       "[1] Covariance matrix calculated using the outer product of gradients (complex-step).\n",
       "[2] Covariance matrix is singular or near-singular, with condition number 2.3e+27. Standard errors may be unstable.\n",
       "\"\"\""
      ]
     },
     "execution_count": 9,
     "metadata": {},
     "output_type": "execute_result"
    }
   ],
   "source": [
    "#  get results for full dataset:\n",
    "end=pd.to_datetime('2020-10-03')\n",
    "start=pd.to_datetime('2020-04-01')\n",
    "formodel=data[start:end]\n",
    "\n",
    "model = SARIMAX(formodel,  \n",
    "                order = (1, 0, 3),  \n",
    "                seasonal_order =(1, 0, 0, 12)) \n",
    "  \n",
    "result = model.fit() \n",
    "result.summary()"
   ]
  },
  {
   "cell_type": "code",
   "execution_count": 10,
   "metadata": {},
   "outputs": [
    {
     "name": "stdout",
     "output_type": "stream",
     "text": [
      "            Forcast Cases\n",
      "Date                     \n",
      "2020-10-04        58612.0\n",
      "2020-10-05        58807.0\n",
      "2020-10-06        58982.0\n",
      "2020-10-07        59027.0\n",
      "2020-10-08        59023.0\n",
      "...                   ...\n",
      "2020-12-28        60007.0\n",
      "2020-12-29        60002.0\n",
      "2020-12-30        59998.0\n",
      "2020-12-31        59993.0\n",
      "2021-01-01        59989.0\n",
      "\n",
      "[90 rows x 1 columns]\n"
     ]
    }
   ],
   "source": [
    "# Getting 120 days (a little more than 6 months in business days) for forecasts\n",
    "SARIMAX_forecast = round(result.forecast(steps = 90))\n",
    "\n",
    "idx = pd.date_range('2020-10-04', '2021-01-01', freq='d')\n",
    " \n",
    "SARIMAX_forecast = pd.DataFrame(list(zip(list(idx),list(SARIMAX_forecast))),\n",
    "columns=['Date','Forcast Cases']).set_index('Date')\n",
    "\n",
    "\n",
    "print(SARIMAX_forecast)\n",
    "\n"
   ]
  },
  {
   "cell_type": "code",
   "execution_count": 11,
   "metadata": {},
   "outputs": [
    {
     "data": {
      "text/plain": [
       "(18353.0, 18627.0)"
      ]
     },
     "execution_count": 11,
     "metadata": {},
     "output_type": "execute_result"
    },
    {
     "data": {
      "image/png": "[encoded data removed]",
      "text/plain": [
       "<Figure size 1080x720 with 1 Axes>"
      ]
     },
     "metadata": {
      "needs_background": "light"
     },
     "output_type": "display_data"
    }
   ],
   "source": [
    "# Graph\n",
    "fig, ax = plt.subplots(figsize=(15,10))\n",
    "npre = 4\n",
    "ax.set(title= f'{CtyName} Covid-19 Cases', xlabel='Date', ylabel='Number of Cases')\n",
    "\n",
    "\n",
    "# Plot data points\n",
    "data.loc['2020-04-01':].plot(ax=ax, style='o', label='Observed Cases')\n",
    "\n",
    "# Plot predictions\n",
    "SARIMAX_forecast.loc['2020-10-03':].plot(ax=ax, style='r--', label='Sarimax forecast')\n",
    "\n",
    "# predict.predicted_mean.loc['2020-04-01':].plot(ax=ax, style='r--', label='One-step-ahead forecast')\n",
    "# ci = predict_ci.loc['2020-04-01':]\n",
    "# ax.fill_between(ci.index, ci.iloc[:,0], ci.iloc[:,1], color='r', alpha=0.1)\n",
    "# predict_dy.predicted_mean.loc['2020-04-01':].plot(ax=ax, style='g', label='Dynamic forecast')\n",
    "# ci = predict_dy_ci.loc['2020-04-01':]\n",
    "# ax.fill_between(ci.index, ci.iloc[:,0], ci.iloc[:,1], color='g', alpha=0.1)\n",
    "\n",
    "\n",
    "legend = ax.legend(loc='lower right')\n",
    "ax.set_xlim(np.datetime64('2020-04-01'), np.datetime64('2020-12-31'))"
   ]
  },
  {
   "cell_type": "code",
   "execution_count": null,
   "metadata": {},
   "outputs": [],
   "source": []
  }
 ],
 "metadata": {
  "kernelspec": {
   "display_name": "Python [conda env:MachineLearning] *",
   "language": "python",
   "name": "conda-env-MachineLearning-py"
  },
  "language_info": {
   "codemirror_mode": {
    "name": "ipython",
    "version": 3
   },
   "file_extension": ".py",
   "mimetype": "text/x-python",
   "name": "python",
   "nbconvert_exporter": "python",
   "pygments_lexer": "ipython3",
   "version": "3.8.5"
  }
 },
 "nbformat": 4,
 "nbformat_minor": 4
}
